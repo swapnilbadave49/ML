{
 "cells": [
  {
   "cell_type": "code",
   "execution_count": 2,
   "metadata": {},
   "outputs": [
    {
     "name": "stdout",
     "output_type": "stream",
     "text": [
      "Accuracy:  0.925\n",
      "\n",
      "Confusion Matrix:\n",
      "[[50  2]\n",
      " [ 4 24]]\n",
      "\n",
      "Classification Report:\n",
      "              precision    recall  f1-score   support\n",
      "\n",
      "           0       0.93      0.96      0.94        52\n",
      "           1       0.92      0.86      0.89        28\n",
      "\n",
      "    accuracy                           0.93        80\n",
      "   macro avg       0.92      0.91      0.92        80\n",
      "weighted avg       0.92      0.93      0.92        80\n",
      "\n"
     ]
    }
   ],
   "source": [
    "# Naive Bayes\n",
    "import pandas as pd\n",
    "from sklearn.model_selection import train_test_split\n",
    "from sklearn.naive_bayes import GaussianNB\n",
    "from sklearn.metrics import accuracy_score, classification_report, confusion_matrix\n",
    "\n",
    "# Load the dataset\n",
    "data = pd.read_csv('./Datasets/NaiveBayes.csv')\n",
    "\n",
    "# Preprocessing\n",
    "# Separate features and target variable\n",
    "X = data[['Age', 'Salary']]\n",
    "y = data['Purchased']\n",
    "\n",
    "# Split the data into training and testing sets\n",
    "X_train, X_test, y_train, y_test = train_test_split(X, y, test_size=0.2, random_state=42)\n",
    "\n",
    "# Train the Gaussian Naïve Bayes model\n",
    "model = GaussianNB()\n",
    "model.fit(X_train, y_train)\n",
    "\n",
    "# Make predictions on the test set\n",
    "y_pred = model.predict(X_test)\n",
    "\n",
    "# Evaluate the model\n",
    "accuracy = accuracy_score(y_test, y_pred)\n",
    "report = classification_report(y_test, y_pred)\n",
    "conf_matrix = confusion_matrix(y_test, y_pred)\n",
    "\n",
    "# Evaluate the model\n",
    "accuracy = accuracy_score(y_test, y_pred)\n",
    "print(\"Accuracy: \",accuracy)\n",
    "\n",
    "# Confusion matrix\n",
    "print(\"\\nConfusion Matrix:\")\n",
    "print(confusion_matrix(y_test, y_pred))\n",
    "\n",
    "# Classification report (precision, recall, f1-score)\n",
    "print(\"\\nClassification Report:\")\n",
    "print(classification_report(y_test, y_pred))\n",
    "\n",
    "# Testing on a random sample from the test set\n",
    "# import random\n",
    "# random_index = random.randint(0, len(X_test) - 1)\n",
    "# random_sample = X_test.iloc[random_index:random_index+1]\n",
    "# random_pred = model.predict(random_sample)\n",
    "# print(f\"Random Sample Prediction: {random_pred[0]}\")\n",
    "# print(\"Actual Value:\", y_test.iloc[random_index])\n",
    "\n",
    "# Taking user input and making a prediction\n",
    "# try:\n",
    "#     user_age = int(input(\"Enter Age: \"))\n",
    "#     print(\"\\nAge : \",user_age)\n",
    "#     user_salary = int(input(\"Enter Salary: \"))\n",
    "#     print(\"Salary : \",user_salary)\n",
    "\n",
    "#     # Convert user input to a DataFrame with matching column names\n",
    "#     user_data = pd.DataFrame([[user_age, user_salary]], columns=['Age', 'Salary'])\n",
    "\n",
    "#     # Predict purchase decision based on user input\n",
    "#     user_prediction = model.predict(user_data)\n",
    "#     print(\"\\nPrediction: Purchased\" if user_prediction[0] == 1 else \"\\nPrediction: Not Purchased\")\n",
    "# except ValueError:\n",
    "#     print(\"Please enter valid numeric values for Age and Salary.\")\n"
   ]
  },
  {
   "cell_type": "code",
   "execution_count": null,
   "metadata": {},
   "outputs": [],
   "source": []
  }
 ],
 "metadata": {
  "kernelspec": {
   "display_name": "base",
   "language": "python",
   "name": "python3"
  },
  "language_info": {
   "codemirror_mode": {
    "name": "ipython",
    "version": 3
   },
   "file_extension": ".py",
   "mimetype": "text/x-python",
   "name": "python",
   "nbconvert_exporter": "python",
   "pygments_lexer": "ipython3",
   "version": "3.12.4"
  }
 },
 "nbformat": 4,
 "nbformat_minor": 2
}
