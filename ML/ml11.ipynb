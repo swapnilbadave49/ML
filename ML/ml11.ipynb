{
 "cells": [
  {
   "cell_type": "code",
   "execution_count": null,
   "metadata": {},
   "outputs": [
    {
     "name": "stdout",
     "output_type": "stream",
     "text": [
      "Cluster assignments:\n",
      "Cluster 1 (C1): [array([0.1, 0.6]), array([0.15, 0.71]), array([0.08, 0.9 ]), array([0.16, 0.85]), array([0.25, 0.5 ])]\n",
      "Cluster 2 (C2): [array([0.2, 0.3]), array([0.24, 0.1 ]), array([0.3, 0.2])]\n",
      "\n",
      "1. P6 belongs to  C1\n",
      "2. Population of cluster around m2 is  3 \n",
      "Population of Cluster around m1 is  5\n",
      "3. New m1 :  [0.148 0.712] \n",
      "New m2 :  [0.24666667 0.2       ]\n"
     ]
    }
   ],
   "source": [
    "# KMeans\n",
    "import numpy as np\n",
    "\n",
    "# Define the points (data points)\n",
    "points = np.array([\n",
    "  [0.1, 0.6],  # Point 1\n",
    "  [0.15, 0.71],  # Point 2\n",
    "  [0.08, 0.9],  # Point 3\n",
    "  [0.16, 0.85],  # Point 4\n",
    "  [0.2, 0.3],  # Point 5\n",
    "  [0.25, 0.5],  # Point 6\n",
    "  [0.24, 0.1],  # Point 7\n",
    "  [0.3, 0.2]  # Point 8\n",
    "])\n",
    "\n",
    "# Initial centroids (m1 and m2)\n",
    "m1 = points[0]  # The first point [0.1, 0.6] is taken as the initial centroid for Cluster 1\n",
    "m2 = points[7]  # The eighth point [0.3, 0.2] is taken as the initial centroid for Cluster 2\n",
    "\n",
    "# Function to calculate Euclidean distance between a point and a centroid\n",
    "def find_euclidean_distance(point, centroid):\n",
    "  return np.sqrt(np.sum((point - centroid) ** 2))  # Calculate the squared sum of differences, then square root\n",
    "\n",
    "# Function to perform K-Means clustering\n",
    "def kMeansClustering(points, m1, m2):\n",
    "  cluster_1 = []  # Initialize empty list for points in cluster 1\n",
    "  cluster_2 = []  # Initialize empty list for points in cluster 2\n",
    "\n",
    "  # Loop through each point and calculate the distance to the centroids m1 and m2\n",
    "  for point in points:\n",
    "    euc_dist_1 = find_euclidean_distance(point, m1)  # Calculate distance to m1\n",
    "    euc_dist_2 = find_euclidean_distance(point, m2)  # Calculate distance to m2\n",
    "\n",
    "    # Assign the point to the closest centroid (m1 or m2)\n",
    "    if(euc_dist_1 < euc_dist_2):  \n",
    "      cluster_1.append(point)  # If m1 is closer, assign point to cluster_1\n",
    "    else:\n",
    "      cluster_2.append(point)  # If m2 is closer, assign point to cluster_2\n",
    "    \n",
    "  # Calculate new centroids as the mean of points in each cluster\n",
    "  new_m1 = np.mean(cluster_1, axis=0)  # New centroid for cluster 1\n",
    "  new_m2 = np.mean(cluster_2, axis=0)  # New centroid for cluster 2\n",
    "\n",
    "  return cluster_1, cluster_2, new_m1, new_m2  # Return the updated clusters and centroids\n",
    "\n",
    "# Perform clustering with the initial centroids m1 and m2\n",
    "cluster_1, cluster_2, new_m1, new_m2 = kMeansClustering(points, m1, m2)\n",
    "\n",
    "# Check the cluster assignment for point 6 (p6)\n",
    "p6 = points[5]  # Point 6 is [0.25, 0.5]\n",
    "# Find the cluster for point 6 based on the new centroids\n",
    "p6_cluster = \"C1\" if(find_euclidean_distance(p6, new_m1) < find_euclidean_distance(p6, new_m2)) else \"C2\"\n",
    "\n",
    "# Print the results\n",
    "print(\"Cluster assignments:\")\n",
    "print(\"Cluster 1 (C1):\", cluster_1)  # Points in Cluster 1\n",
    "print(\"Cluster 2 (C2):\", cluster_2)  # Points in Cluster 2\n",
    "print()\n",
    "print(\"1. P6 belongs to \", p6_cluster)  # Output the cluster for point 6\n",
    "print(\"2. Population of cluster around m2 is \", len(cluster_2), \"\\nPopulation of Cluster around m1 is \", len(cluster_1))  # Population size of each cluster\n",
    "print(\"3. New m1 : \", new_m1, \"\\nNew m2 : \", new_m2)  # Output the new centroids\n"
   ]
  },
  {
   "cell_type": "code",
   "execution_count": null,
   "metadata": {},
   "outputs": [],
   "source": []
  }
 ],
 "metadata": {
  "kernelspec": {
   "display_name": "base",
   "language": "python",
   "name": "python3"
  },
  "language_info": {
   "codemirror_mode": {
    "name": "ipython",
    "version": 3
   },
   "file_extension": ".py",
   "mimetype": "text/x-python",
   "name": "python",
   "nbconvert_exporter": "python",
   "pygments_lexer": "ipython3",
   "version": "3.12.4"
  }
 },
 "nbformat": 4,
 "nbformat_minor": 2
}
