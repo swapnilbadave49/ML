{
 "cells": [
  {
   "cell_type": "code",
   "execution_count": 24,
   "metadata": {},
   "outputs": [
    {
     "name": "stdout",
     "output_type": "stream",
     "text": [
      "Dataset Preview:\n",
      "   Member_number        Date   itemDescription\n",
      "0           1808  21-07-2015    tropical fruit\n",
      "1           2552  05-01-2015        whole milk\n",
      "2           2300  19-09-2015         pip fruit\n",
      "3           1187  12-12-2015  other vegetables\n",
      "4           3037  01-02-2015        whole milk\n",
      "\n",
      "               antecedents         consequents   support  confidence      lift\n",
      "0                  (beef)  (other vegetables)  0.050795    0.424893  1.128223\n",
      "1                  (beef)        (whole milk)  0.064135    0.536481  1.170886\n",
      "2          (bottled beer)  (other vegetables)  0.068497    0.431341  1.145345\n",
      "3          (bottled beer)        (rolls/buns)  0.063109    0.397415  1.136555\n",
      "4          (bottled beer)              (soda)  0.055156    0.347334  1.107946\n",
      "..                    ...                 ...       ...         ...       ...\n",
      "127  (rolls/buns, yogurt)        (whole milk)  0.065931    0.592166  1.292420\n",
      "128  (whole milk, yogurt)        (rolls/buns)  0.065931    0.437819  1.252106\n",
      "129  (whole milk, yogurt)              (soda)  0.054387    0.361158  1.152042\n",
      "130    (whole milk, soda)            (yogurt)  0.054387    0.359932  1.271999\n",
      "131        (yogurt, soda)        (whole milk)  0.054387    0.557895  1.217622\n",
      "\n",
      "[132 rows x 5 columns]\n"
     ]
    }
   ],
   "source": [
    "# lp15 : Apriori\n",
    "# Import necessary libraries\n",
    "import pandas as pd\n",
    "from mlxtend.frequent_patterns import apriori, association_rules\n",
    "from mlxtend.preprocessing import TransactionEncoder\n",
    "\n",
    "# Step 1: Data Preprocessing\n",
    "# Load the dataset\n",
    "data = pd.read_csv('./Datasets/Order1.csv')\n",
    "\n",
    "# Preview the data to understand its structure\n",
    "print(\"Dataset Preview:\")\n",
    "print(data.head())\n",
    "\n",
    "# We assume the dataset contains 'Member_number', 'Date', and 'itemDescription'\n",
    "# We will group the data by 'Member_number' to represent each transaction\n",
    "# Each 'Member_number' will have a list of items they purchased.\n",
    "\n",
    "# Step 2: Generate the List of Transactions\n",
    "# Group by 'Member_number' and aggregate the 'itemDescription' into a list of items for each transaction\n",
    "transactions = data.groupby('Member_number')['itemDescription'].apply(list).values.tolist()\n",
    "\n",
    "# Step 3: Prepare the Transactions for Apriori\n",
    "# Apply the TransactionEncoder\n",
    "te = TransactionEncoder()\n",
    "te_ary = te.fit_transform(transactions)\n",
    "\n",
    "# Convert the list into a DataFrame for easier manipulation\n",
    "df = pd.DataFrame(te_ary, columns=te.columns_)\n",
    "\n",
    "# Step 4: Train Apriori on the Dataset\n",
    "# Apply the Apriori algorithm to find frequent itemsets\n",
    "frequent_itemsets = apriori(df, min_support=0.05, use_colnames=True)  # Adjust the min_support threshold as needed\n",
    "# print(\"\\nFrequent Itemsets : \\n\",frequent_itemsets)\n",
    "\n",
    "# Step 5: Generate Association Rules\n",
    "# Generate the association rules from the frequent itemsets\n",
    "# Remove num_itemsets=None if error comes here , it is due to version of mlxtend\n",
    "rules = association_rules(frequent_itemsets, metric=\"confidence\", min_threshold=0.30, num_itemsets=None)\n",
    "print(\"\\n\",rules[['antecedents', 'consequents', 'support', 'confidence', 'lift']])"
   ]
  },
  {
   "cell_type": "code",
   "execution_count": null,
   "metadata": {},
   "outputs": [],
   "source": []
  }
 ],
 "metadata": {
  "kernelspec": {
   "display_name": "base",
   "language": "python",
   "name": "python3"
  },
  "language_info": {
   "codemirror_mode": {
    "name": "ipython",
    "version": 3
   },
   "file_extension": ".py",
   "mimetype": "text/x-python",
   "name": "python",
   "nbconvert_exporter": "python",
   "pygments_lexer": "ipython3",
   "version": "3.12.4"
  }
 },
 "nbformat": 4,
 "nbformat_minor": 2
}
