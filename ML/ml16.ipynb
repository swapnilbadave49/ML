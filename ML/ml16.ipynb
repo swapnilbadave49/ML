{
 "cells": [
  {
   "cell_type": "code",
   "execution_count": 10,
   "metadata": {},
   "outputs": [
    {
     "name": "stdout",
     "output_type": "stream",
     "text": [
      "            antecedents      consequents   support  confidence      lift\n",
      "0             (burgers)           (eggs)  0.028796    0.330275  1.837830\n",
      "1                (cake)  (mineral water)  0.027463    0.338816  1.421397\n",
      "2             (chicken)  (mineral water)  0.022797    0.380000  1.594172\n",
      "3           (chocolate)  (mineral water)  0.052660    0.321400  1.348332\n",
      "4         (cooking oil)  (mineral water)  0.020131    0.394256  1.653978\n",
      "5     (frozen smoothie)  (mineral water)  0.020264    0.320000  1.342461\n",
      "6   (frozen vegetables)  (mineral water)  0.035729    0.374825  1.572463\n",
      "7         (ground beef)  (mineral water)  0.040928    0.416554  1.747522\n",
      "8         (ground beef)      (spaghetti)  0.039195    0.398915  2.291162\n",
      "9      (low fat yogurt)  (mineral water)  0.023997    0.313589  1.315565\n",
      "10               (milk)  (mineral water)  0.047994    0.370370  1.553774\n",
      "11          (olive oil)  (mineral water)  0.027596    0.419028  1.757904\n",
      "12           (pancakes)  (mineral water)  0.033729    0.354839  1.488616\n",
      "13             (shrimp)  (mineral water)  0.023597    0.330224  1.385352\n",
      "14               (soup)  (mineral water)  0.023064    0.456464  1.914955\n",
      "15          (spaghetti)  (mineral water)  0.059725    0.343032  1.439085\n",
      "16           (tomatoes)  (mineral water)  0.024397    0.356725  1.496530\n",
      "17   (whole wheat rice)  (mineral water)  0.020131    0.343964  1.442993\n",
      "18          (olive oil)      (spaghetti)  0.022930    0.348178  1.999758\n",
      "19           (tomatoes)      (spaghetti)  0.020931    0.306043  1.757755\n"
     ]
    }
   ],
   "source": [
    "# Apriori\n",
    "import pandas as pd\n",
    "from mlxtend.frequent_patterns import apriori, association_rules\n",
    "from mlxtend.preprocessing import TransactionEncoder\n",
    "\n",
    "# Step 1: Data Preprocessing\n",
    "# Load the dataset\n",
    "transactions = pd.read_csv('./Datasets/Order2.csv', header=None)\n",
    "\n",
    "# Data cleaning: Remove NaN or any non-item entries from each transaction\n",
    "# Convert the entire DataFrame to a list of transactions\n",
    "# Example function to clean and convert rows\n",
    "def clean_row(row):\n",
    "    return [str(item) for item in row if pd.notna(item)]\n",
    "\n",
    "# Apply the function to each row\n",
    "transactions = transactions.apply(clean_row, axis=1)\n",
    "\n",
    "# Step 2: Prepare the data for the Apriori algorithm\n",
    "# Convert transactions into a one-hot encoded format\n",
    "te = TransactionEncoder()\n",
    "te_ary = te.fit_transform(transactions)\n",
    "df = pd.DataFrame(te_ary, columns=te.columns_)\n",
    "\n",
    "# Step 3: Apply Apriori Algorithm\n",
    "# Set minimum support to find frequent itemsets (example: 0.02)\n",
    "frequent_itemsets = apriori(df, min_support=0.02, use_colnames=True)\n",
    "# print(\"\\nFrequent Itemsets : \\n\",frequent_itemsets)\n",
    "\n",
    "# Step 4: Apply Association Rules (example: min_threshold=0.7)\n",
    "# Remove num_itemsets=None if error comes here , it is due to version of mlxtend\n",
    "rules = association_rules(frequent_itemsets, metric=\"confidence\", min_threshold=0.30, num_itemsets=None)\n",
    "print(rules[['antecedents', 'consequents', 'support', 'confidence', 'lift']])\n"
   ]
  },
  {
   "cell_type": "code",
   "execution_count": null,
   "metadata": {},
   "outputs": [],
   "source": []
  }
 ],
 "metadata": {
  "kernelspec": {
   "display_name": "base",
   "language": "python",
   "name": "python3"
  },
  "language_info": {
   "codemirror_mode": {
    "name": "ipython",
    "version": 3
   },
   "file_extension": ".py",
   "mimetype": "text/x-python",
   "name": "python",
   "nbconvert_exporter": "python",
   "pygments_lexer": "ipython3",
   "version": "3.12.4"
  }
 },
 "nbformat": 4,
 "nbformat_minor": 2
}
