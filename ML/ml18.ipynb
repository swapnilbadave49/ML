{
 "cells": [
  {
   "cell_type": "code",
   "execution_count": 1,
   "metadata": {},
   "outputs": [],
   "source": [
    "# Change the cols from pima-indians-diabetes.csv to \n",
    "# Number_of_times_pregnant,Plasma_glucose_concentration,Diastolic_blood_pressure,Triceps_skin_fold_thickness,Serum_insulin,Body_mass_index,Diabetes_pedigree_function,Age,Class_variable"
   ]
  },
  {
   "cell_type": "code",
   "execution_count": 2,
   "metadata": {},
   "outputs": [
    {
     "name": "stdout",
     "output_type": "stream",
     "text": [
      "Accuracy:  0.7445887445887446\n",
      "\n",
      "Confusion Matrix:\n",
      "[[119  32]\n",
      " [ 27  53]]\n",
      "\n",
      "Classification Report:\n",
      "              precision    recall  f1-score   support\n",
      "\n",
      "           0       0.82      0.79      0.80       151\n",
      "           1       0.62      0.66      0.64        80\n",
      "\n",
      "    accuracy                           0.74       231\n",
      "   macro avg       0.72      0.73      0.72       231\n",
      "weighted avg       0.75      0.74      0.75       231\n",
      "\n"
     ]
    }
   ],
   "source": [
    "# Naive Bayes\n",
    "# Import necessary libraries\n",
    "import pandas as pd\n",
    "from sklearn.model_selection import train_test_split\n",
    "from sklearn.naive_bayes import GaussianNB\n",
    "from sklearn.metrics import accuracy_score, classification_report, confusion_matrix\n",
    "\n",
    "# Load the dataset with the correct headers\n",
    "column_names = [\n",
    "    \"Number_of_times_pregnant\", \"Plasma_glucose_concentration\", \"Diastolic_blood_pressure\", \n",
    "    \"Triceps_skin_fold_thickness\", \"Serum_insulin\", \"Body_mass_index\", \n",
    "    \"Diabetes_pedigree_function\", \"Age\", \"Class_variable\"\n",
    "]\n",
    "data = pd.read_csv('./Datasets/pima-indians-diabetes.csv', names=column_names, header=0)\n",
    "\n",
    "# Split data into features (X) and target (y)\n",
    "X = data.drop(\"Class_variable\", axis=1)\n",
    "y = data[\"Class_variable\"]\n",
    "\n",
    "# Split dataset into training and test sets\n",
    "X_train, X_test, y_train, y_test = train_test_split(X, y, test_size=0.3, random_state=42)\n",
    "\n",
    "# Initialize the Naïve Bayes classifier\n",
    "model = GaussianNB()\n",
    "model.fit(X_train, y_train)\n",
    "\n",
    "# Predict on the test set\n",
    "y_pred = model.predict(X_test)\n",
    "\n",
    "# Evaluate the model\n",
    "accuracy = accuracy_score(y_test, y_pred)\n",
    "print(\"Accuracy: \",accuracy)\n",
    "\n",
    "# Confusion matrix\n",
    "print(\"\\nConfusion Matrix:\")\n",
    "print(confusion_matrix(y_test, y_pred))\n",
    "\n",
    "# Classification report (precision, recall, f1-score)\n",
    "print(\"\\nClassification Report:\")\n",
    "print(classification_report(y_test, y_pred))\n",
    "\n",
    "# Testing on a random sample from the test set\n",
    "# import random\n",
    "# random_index = random.randint(0, len(X_test) - 1)\n",
    "# random_sample = X_test.iloc[random_index:random_index+1]\n",
    "# random_pred = model.predict(random_sample)\n",
    "# print(f\"Random Sample Prediction: {random_pred[0]}\")\n",
    "# print(\"Actual Value:\", y_test.iloc[random_index])\n",
    "\n",
    "\n",
    "# Take user input for a new sample\n",
    "# print(\"\\nEnter values for a new sample to predict diabetes (0 for No, 1 for Yes):\")\n",
    "# try:\n",
    "#     user_input = []\n",
    "#     user_input.append(float(input(\"Number of times pregnant: \")))\n",
    "#     user_input.append(float(input(\"Plasma glucose concentration: \")))\n",
    "#     user_input.append(float(input(\"Diastolic blood pressure: \")))\n",
    "#     user_input.append(float(input(\"Triceps skin fold thickness: \")))\n",
    "#     user_input.append(float(input(\"Serum insulin: \")))\n",
    "#     user_input.append(float(input(\"Body mass index: \")))\n",
    "#     user_input.append(float(input(\"Diabetes pedigree function: \")))\n",
    "#     user_input.append(float(input(\"Age: \")))\n",
    "\n",
    "#     # Convert the user input into a DataFrame to match the model's input format\n",
    "#     user_sample = pd.DataFrame([user_input], columns=X.columns)\n",
    "#     user_pred = nb_classifier.predict(user_sample)\n",
    "#     print(\"\\nPredicted Result for the entered sample:\", \"Diabetic\" if user_pred[0] == 1 else \"Non-Diabetic\")\n",
    "# except ValueError:\n",
    "#     print(\"Invalid input! Please enter numerical values for all features.\")"
   ]
  },
  {
   "cell_type": "code",
   "execution_count": null,
   "metadata": {},
   "outputs": [],
   "source": []
  }
 ],
 "metadata": {
  "kernelspec": {
   "display_name": "base",
   "language": "python",
   "name": "python3"
  },
  "language_info": {
   "codemirror_mode": {
    "name": "ipython",
    "version": 3
   },
   "file_extension": ".py",
   "mimetype": "text/x-python",
   "name": "python",
   "nbconvert_exporter": "python",
   "pygments_lexer": "ipython3",
   "version": "3.12.4"
  }
 },
 "nbformat": 4,
 "nbformat_minor": 2
}
